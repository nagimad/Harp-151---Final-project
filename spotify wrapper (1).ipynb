{
 "cells": [
  {
   "cell_type": "code",
   "execution_count": 13,
   "id": "53118e71",
   "metadata": {},
   "outputs": [
    {
     "name": "stdout",
     "output_type": "stream",
     "text": [
      "Requirement already satisfied: requests in c:\\users\\nagim\\anaconda3\\lib\\site-packages (2.28.1)\n",
      "Requirement already satisfied: certifi>=2017.4.17 in c:\\users\\nagim\\anaconda3\\lib\\site-packages (from requests) (2022.9.14)\n",
      "Requirement already satisfied: urllib3<1.27,>=1.21.1 in c:\\users\\nagim\\anaconda3\\lib\\site-packages (from requests) (1.26.11)\n",
      "Requirement already satisfied: charset-normalizer<3,>=2 in c:\\users\\nagim\\anaconda3\\lib\\site-packages (from requests) (2.0.4)\n",
      "Requirement already satisfied: idna<4,>=2.5 in c:\\users\\nagim\\anaconda3\\lib\\site-packages (from requests) (3.3)\n",
      "Note: you may need to restart the kernel to use updated packages.\n"
     ]
    }
   ],
   "source": [
    "pip install requests"
   ]
  },
  {
   "cell_type": "code",
   "execution_count": 20,
   "id": "1eae4a11",
   "metadata": {},
   "outputs": [],
   "source": [
    "\n",
    "import base64 #need for the token\n",
    "import requests\n",
    "import os\n",
    "from requests import post, get\n",
    "import json"
   ]
  },
  {
   "cell_type": "code",
   "execution_count": 15,
   "id": "9ef4c651",
   "metadata": {},
   "outputs": [],
   "source": [
    "CLIENT_ID = \"b9e8a2e3b50844ffb3e562d55594a2dd\"\n",
    "CLIENT_SECRET = \"6ff0279dc1304406ac1480a3614261e7\""
   ]
  },
  {
   "cell_type": "code",
   "execution_count": 16,
   "id": "8ee35b97",
   "metadata": {},
   "outputs": [
    {
     "name": "stdout",
     "output_type": "stream",
     "text": [
      "b9e8a2e3b50844ffb3e562d55594a2dd 6ff0279dc1304406ac1480a3614261e7\n"
     ]
    }
   ],
   "source": [
    "\n",
    "# Set up client credentials\n",
    "client_id = CLIENT_ID\n",
    "client_secret = CLIENT_SECRET\n",
    "\n",
    "print(client_id, client_secret)"
   ]
  },
  {
   "cell_type": "code",
   "execution_count": 21,
   "id": "bd11816b",
   "metadata": {},
   "outputs": [],
   "source": [
    "#get the token\n",
    "def get_token():\n",
    "    auth_string = client_id +\":\"+ client_secret\n",
    "    auth_bytes = auth_string.encode(\"utf-8\") #conver into a string\n",
    "    auth_base64 = str(base64.b64encode(auth_bytes), \"utf-8\")\n",
    "    \n",
    "    url = \"https://accounts.spotify.com/api/token\"\n",
    "    headers = {\n",
    "        \"Authorization\": \"Basic \" + auth_base64,\n",
    "        \"Content-Type\": \"application/x-www-form-urlencoded\"\n",
    "    }\n",
    "    \n",
    "    data = {\"grant_type\": \"client_credentials\"}\n",
    "    result = post(url, headers=headers, data=data)\n",
    "    json_result = json.loads(result.content)\n",
    "    token = json_result[\"access_token\"]\n",
    "    return token\n",
    "\n",
    "def get_auth_header(token):\n",
    "    return {\"Authorization\": \"Bearer \" + token}\n",
    "\n",
    "\n",
    "token = get_token()\n",
    "\n",
    "#print(token)"
   ]
  },
  {
   "cell_type": "code",
   "execution_count": 28,
   "id": "b48555f3",
   "metadata": {},
   "outputs": [],
   "source": [
    "def get_token():\n",
    "    auth_string = client_id +\":\"+ client_secret\n",
    "    auth_bytes = auth_string.encode(\"utf-8\") #conver into a string\n",
    "    auth_base64 = str(base64.b64encode(auth_bytes), \"utf-8\")\n",
    "    \n",
    "    url = \"https://accounts.spotify.com/api/token\"\n",
    "    headers = {\n",
    "        \"Authorization\": \"Basic \" + auth_base64,\n",
    "        \"Content-Type\": \"application/x-www-form-urlencoded\"\n",
    "    }\n",
    "    \n",
    "    data = {\"grant_type\": \"client_credentials\"}\n",
    "    result = post(url, headers=headers, data=data)\n",
    "    json_result = json.loads(result.content)\n",
    "    token = json_result[\"access_token\"]\n",
    "    return token\n",
    "\n",
    "def get_auth_header(token):\n",
    "    return {\"Authorization\": \"Bearer \" + token}\n",
    "\n",
    "\n",
    "    \n",
    "token = get_token()\n",
    "\n",
    "#print(token)\n"
   ]
  },
  {
   "cell_type": "code",
   "execution_count": 29,
   "id": "b48357ee",
   "metadata": {
    "scrolled": true
   },
   "outputs": [
    {
     "name": "stdout",
     "output_type": "stream",
     "text": [
      "{'tracks': {'href': 'https://api.spotify.com/v1/search?query=LOVE&type=track&offset=0&limit=1', 'items': [{'album': {'album_group': 'album', 'album_type': 'album', 'artists': [{'external_urls': {'spotify': 'https://open.spotify.com/artist/0Y6dVaC9DZtPNH4591M42W'}, 'href': 'https://api.spotify.com/v1/artists/0Y6dVaC9DZtPNH4591M42W', 'id': '0Y6dVaC9DZtPNH4591M42W', 'name': 'TV Girl', 'type': 'artist', 'uri': 'spotify:artist:0Y6dVaC9DZtPNH4591M42W'}], 'available_markets': ['AD', 'AE', 'AG', 'AL', 'AM', 'AO', 'AR', 'AT', 'AU', 'AZ', 'BA', 'BB', 'BD', 'BE', 'BF', 'BG', 'BH', 'BI', 'BJ', 'BN', 'BO', 'BR', 'BS', 'BT', 'BW', 'BY', 'BZ', 'CA', 'CD', 'CG', 'CH', 'CI', 'CL', 'CM', 'CO', 'CR', 'CV', 'CW', 'CY', 'CZ', 'DE', 'DJ', 'DK', 'DM', 'DO', 'DZ', 'EC', 'EE', 'EG', 'ES', 'FI', 'FJ', 'FM', 'FR', 'GA', 'GB', 'GD', 'GE', 'GH', 'GM', 'GN', 'GQ', 'GR', 'GT', 'GW', 'GY', 'HK', 'HN', 'HR', 'HT', 'HU', 'ID', 'IE', 'IL', 'IN', 'IQ', 'IS', 'IT', 'JM', 'JO', 'JP', 'KE', 'KG', 'KH', 'KI', 'KM', 'KN', 'KR', 'KW', 'KZ', 'LA', 'LB', 'LC', 'LI', 'LK', 'LR', 'LS', 'LT', 'LU', 'LV', 'LY', 'MA', 'MC', 'MD', 'ME', 'MG', 'MH', 'MK', 'ML', 'MN', 'MO', 'MR', 'MT', 'MU', 'MV', 'MW', 'MX', 'MY', 'MZ', 'NA', 'NE', 'NG', 'NI', 'NL', 'NO', 'NP', 'NR', 'NZ', 'OM', 'PA', 'PE', 'PG', 'PH', 'PK', 'PL', 'PS', 'PT', 'PW', 'PY', 'QA', 'RO', 'RS', 'RW', 'SA', 'SB', 'SC', 'SE', 'SG', 'SI', 'SK', 'SL', 'SM', 'SN', 'SR', 'ST', 'SV', 'SZ', 'TD', 'TG', 'TH', 'TJ', 'TL', 'TN', 'TO', 'TR', 'TT', 'TV', 'TW', 'TZ', 'UA', 'UG', 'US', 'UY', 'UZ', 'VC', 'VE', 'VN', 'VU', 'WS', 'XK', 'ZA', 'ZM', 'ZW'], 'external_urls': {'spotify': 'https://open.spotify.com/album/4Hai0uVzRbyTSaTPzxTY4e'}, 'href': 'https://api.spotify.com/v1/albums/4Hai0uVzRbyTSaTPzxTY4e', 'id': '4Hai0uVzRbyTSaTPzxTY4e', 'images': [{'height': 640, 'url': 'https://i.scdn.co/image/ab67616d0000b273e1bc1af856b42dd7fdba9f84', 'width': 640}, {'height': 300, 'url': 'https://i.scdn.co/image/ab67616d00001e02e1bc1af856b42dd7fdba9f84', 'width': 300}, {'height': 64, 'url': 'https://i.scdn.co/image/ab67616d00004851e1bc1af856b42dd7fdba9f84', 'width': 64}], 'name': 'French Exit', 'release_date': '2014-06-05', 'release_date_precision': 'day', 'total_tracks': 12, 'type': 'album', 'uri': 'spotify:album:4Hai0uVzRbyTSaTPzxTY4e'}, 'artists': [{'external_urls': {'spotify': 'https://open.spotify.com/artist/0Y6dVaC9DZtPNH4591M42W'}, 'href': 'https://api.spotify.com/v1/artists/0Y6dVaC9DZtPNH4591M42W', 'id': '0Y6dVaC9DZtPNH4591M42W', 'name': 'TV Girl', 'type': 'artist', 'uri': 'spotify:artist:0Y6dVaC9DZtPNH4591M42W'}], 'available_markets': ['AR', 'AU', 'AT', 'BE', 'BO', 'BR', 'BG', 'CA', 'CL', 'CO', 'CR', 'CY', 'CZ', 'DK', 'DO', 'DE', 'EC', 'EE', 'SV', 'FI', 'FR', 'GR', 'GT', 'HN', 'HK', 'HU', 'IS', 'IE', 'IT', 'LV', 'LT', 'LU', 'MY', 'MT', 'MX', 'NL', 'NZ', 'NI', 'NO', 'PA', 'PY', 'PE', 'PH', 'PL', 'PT', 'SG', 'SK', 'ES', 'SE', 'CH', 'TW', 'TR', 'UY', 'US', 'GB', 'AD', 'LI', 'MC', 'ID', 'JP', 'TH', 'VN', 'RO', 'IL', 'ZA', 'SA', 'AE', 'BH', 'QA', 'OM', 'KW', 'EG', 'MA', 'DZ', 'TN', 'LB', 'JO', 'PS', 'IN', 'BY', 'KZ', 'MD', 'UA', 'AL', 'BA', 'HR', 'ME', 'MK', 'RS', 'SI', 'KR', 'BD', 'PK', 'LK', 'GH', 'KE', 'NG', 'TZ', 'UG', 'AG', 'AM', 'BS', 'BB', 'BZ', 'BT', 'BW', 'BF', 'CV', 'CW', 'DM', 'FJ', 'GM', 'GE', 'GD', 'GW', 'GY', 'HT', 'JM', 'KI', 'LS', 'LR', 'MW', 'MV', 'ML', 'MH', 'FM', 'NA', 'NR', 'NE', 'PW', 'PG', 'WS', 'SM', 'ST', 'SN', 'SC', 'SL', 'SB', 'KN', 'LC', 'VC', 'SR', 'TL', 'TO', 'TT', 'TV', 'VU', 'AZ', 'BN', 'BI', 'KH', 'CM', 'TD', 'KM', 'GQ', 'SZ', 'GA', 'GN', 'KG', 'LA', 'MO', 'MR', 'MN', 'NP', 'RW', 'TG', 'UZ', 'ZW', 'BJ', 'MG', 'MU', 'MZ', 'AO', 'CI', 'DJ', 'ZM', 'CD', 'CG', 'IQ', 'LY', 'TJ', 'VE', 'ET', 'XK'], 'disc_number': 1, 'duration_ms': 213920, 'explicit': False, 'external_ids': {'isrc': 'USHM21438143'}, 'external_urls': {'spotify': 'https://open.spotify.com/track/6dBUzqjtbnIa1TwYbyw5CM'}, 'href': 'https://api.spotify.com/v1/tracks/6dBUzqjtbnIa1TwYbyw5CM', 'id': '6dBUzqjtbnIa1TwYbyw5CM', 'is_local': False, 'name': 'Lovers Rock', 'popularity': 87, 'preview_url': 'https://p.scdn.co/mp3-preview/922a42db5aa8f8d335725697b7d7a12af6808f3a?cid=b9e8a2e3b50844ffb3e562d55594a2dd', 'track_number': 9, 'type': 'track', 'uri': 'spotify:track:6dBUzqjtbnIa1TwYbyw5CM'}], 'limit': 1, 'next': 'https://api.spotify.com/v1/search?query=LOVE&type=track&offset=1&limit=1', 'offset': 0, 'previous': None, 'total': 1000}}\n"
     ]
    }
   ],
   "source": [
    "def search_song(token, track_name):\n",
    "    url = \"https://api.spotify.com/v1/search\"\n",
    "    headers = get_auth_header(token)\n",
    "    \n",
    "    query = f\"?q={track_name}&type=track&limit=1\" #limit=1 allows to show the most popular song that pops upmwith that name\n",
    "    \n",
    "    query_url = url + query\n",
    "    \n",
    "    result = get(query_url, headers=headers)\n",
    "    \n",
    "    json_result = json.loads(result.content)\n",
    "    \n",
    "    print(json_result)\n",
    "    \n",
    "search_song(token,\"LOVE\")"
   ]
  },
  {
   "cell_type": "code",
   "execution_count": 42,
   "id": "5ee9e122",
   "metadata": {},
   "outputs": [
    {
     "name": "stdout",
     "output_type": "stream",
     "text": [
      "your word:cat\n",
      "Catch Me Outside\n"
     ]
    }
   ],
   "source": [
    "#search for song (practice)\n",
    "def search_song(token, track_name):\n",
    "    url = \"https://api.spotify.com/v1/search\"\n",
    "    headers = get_auth_header(token)\n",
    "    \n",
    "   \n",
    "    query = f\"?q={track_name}&type=track&limit=1\" #limit=1 allows to show the most popular song that pops upmwith that name\n",
    "    \n",
    "    query_url = url + query\n",
    "    \n",
    "    result = get(query_url, headers=headers)\n",
    "    \n",
    "    json_result = json.loads(result.content)[\"tracks\"][\"items\"]\n",
    "    \n",
    "    if len(json_result)==0:\n",
    "        print(\"no song with this name\")\n",
    "        return None\n",
    "    return json_result[0]\n",
    "    \n",
    "#user input    \n",
    "track_name = input(\"your word:\")\n",
    "\n",
    "result = search_song(token,track_name)\n",
    "\n",
    "print(result[\"name\"])"
   ]
  },
  {
   "cell_type": "code",
   "execution_count": 44,
   "id": "c3eafd8a",
   "metadata": {},
   "outputs": [
    {
     "name": "stdout",
     "output_type": "stream",
     "text": [
      "Enter a track name: sprint\n",
      "Track name: Sprinter\n",
      "Track href: https://api.spotify.com/v1/tracks/0Gen3ZqKKEq5IhRPhvMqXq\n",
      "Track image URL: https://i.scdn.co/image/ab67616d0000b2733c4d5a1d128a6cdca0ed21de\n"
     ]
    }
   ],
   "source": [
    "def search_song(token, track_name):\n",
    "    url = \"https://api.spotify.com/v1/search\"\n",
    "    headers = get_auth_header(token)\n",
    "\n",
    "    query = f\"?q={track_name}&type=track&limit=1\"\n",
    "    query_url = url + query\n",
    "\n",
    "    result = get(query_url, headers=headers)\n",
    "\n",
    "    json_result = json.loads(result.content)[\"tracks\"][\"items\"]\n",
    "\n",
    "    if len(json_result)==0:\n",
    "        print(\"no song with this name\")\n",
    "        return None\n",
    "\n",
    "    # Extract the track name, href, and image URL from the JSON response\n",
    "    track_name = json_result[0][\"name\"]\n",
    "    track_href = json_result[0][\"href\"]\n",
    "    track_image_url = json_result[0][\"album\"][\"images\"][0][\"url\"]\n",
    "\n",
    "    return track_name, track_href, track_image_url\n",
    "\n",
    "#user input    \n",
    "track_name = input(\"enter a word: \")\n",
    "\n",
    "result = search_song(token, track_name)\n",
    "if result is not None:\n",
    "    track_name, track_href, track_image_url = result\n",
    "    print(\"Track name:\", track_name)\n",
    "    print(\"Track href:\", track_href)\n",
    "    print(\"Track image URL:\", track_image_url)\n"
   ]
  },
  {
   "cell_type": "code",
   "execution_count": null,
   "id": "0adc4855",
   "metadata": {},
   "outputs": [],
   "source": []
  }
 ],
 "metadata": {
  "kernelspec": {
   "display_name": "Python 3 (ipykernel)",
   "language": "python",
   "name": "python3"
  },
  "language_info": {
   "codemirror_mode": {
    "name": "ipython",
    "version": 3
   },
   "file_extension": ".py",
   "mimetype": "text/x-python",
   "name": "python",
   "nbconvert_exporter": "python",
   "pygments_lexer": "ipython3",
   "version": "3.9.13"
  }
 },
 "nbformat": 4,
 "nbformat_minor": 5
}
